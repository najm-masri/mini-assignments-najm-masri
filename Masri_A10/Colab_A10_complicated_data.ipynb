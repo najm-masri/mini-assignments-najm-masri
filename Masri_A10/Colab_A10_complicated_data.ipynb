{
  "cells": [
    {
      "cell_type": "markdown",
      "metadata": {
        "id": "-AqiLKPR3r6d"
      },
      "source": [
        "# Working with complicated dataset"
      ]
    },
    {
      "cell_type": "markdown",
      "source": [
        "Your name:"
      ],
      "metadata": {
        "id": "uZ0oeT3-S5iq"
      }
    },
    {
      "cell_type": "markdown",
      "metadata": {
        "id": "tio0jU9Y3r6h"
      },
      "source": [
        "### Question 1\n",
        "\n",
        "blast_results: https://raw.githubusercontent.com/csbfx/advpy122-data/master/blast_results.csv\n",
        "\n",
        "Read in the data from the csv file above. Skip all the comment lines, create a header for the dataframe based on the fields list in the comment line that starts with **# Fields:**. Drop the first column `query acc.ver`. Set the `subject acc.ver` as the index of the dataframe. The last column of the dataframe should be `publications`. Show the first five rows of the resulting dataframe."
      ]
    },
    {
      "cell_type": "code",
      "execution_count": 18,
      "metadata": {
        "id": "zkhws8KT3r6i",
        "colab": {
          "base_uri": "https://localhost:8080/"
        },
        "outputId": "8db32e3e-2abf-4cce-9787-e1e4ccd32d46"
      },
      "outputs": [
        {
          "output_type": "stream",
          "name": "stdout",
          "text": [
            "                 perc_identity  alignment_length  mismatches  gap_opens  \\\n",
            "subject acc.ver                                                           \n",
            "NaN                        NaN               NaN         NaN        NaN   \n",
            "NP_904328.1            100.000             318.0         0.0        0.0   \n",
            "AGK29621.1              99.686             318.0         1.0        0.0   \n",
            "YP_220563.1             99.686             318.0         1.0        0.0   \n",
            "ACM24502.1              99.686             318.0         1.0        0.0   \n",
            "\n",
            "                 q.start  q.end  s.start  s.end  evalue  bit_score   score  \\\n",
            "subject acc.ver                                                              \n",
            "NaN                  NaN    NaN      NaN    NaN     NaN        NaN     NaN   \n",
            "NP_904328.1          1.0  318.0      1.0  318.0     0.0      629.0  100.00   \n",
            "AGK29621.1           1.0  318.0      1.0  318.0     0.0      629.0  100.00   \n",
            "YP_220563.1          1.0  318.0      1.0  318.0     0.0      627.0  100.00   \n",
            "ACM24502.1           1.0  318.0      1.0  318.0     0.0      627.0   99.69   \n",
            "\n",
            "                 coverage taxonomy publications  \n",
            "subject acc.ver                                  \n",
            "NaN                   NaN      NaN          NaN  \n",
            "NP_904328.1        1,487         9          NaN  \n",
            "AGK29621.1        17,947        47          NaN  \n",
            "YP_220563.1       12,106        13          NaN  \n",
            "ACM24502.1         2,319        41          NaN  \n"
          ]
        }
      ],
      "source": [
        "import pandas as pd\n",
        "\n",
        "blast_results_url = \"https://raw.githubusercontent.com/csbfx/advpy122-data/master/blast_results.csv\"\n",
        "\n",
        "blast_results = pd.read_csv(\n",
        "    blast_results_url,\n",
        "    comment='#',\n",
        "    header=None\n",
        ")\n",
        "\n",
        "fields = [\n",
        "    \"query acc.ver\", \"subject acc.ver\", \"perc_identity\", \"alignment_length\",\n",
        "    \"mismatches\", \"gap_opens\", \"q.start\", \"q.end\", \"s.start\", \"s.end\",\n",
        "    \"evalue\", \"bit_score\", \"score\", \"coverage\", \"taxonomy\", \"publications\"\n",
        "]\n",
        "\n",
        "blast_results.columns = fields\n",
        "\n",
        "blast_results.drop(columns=[\"query acc.ver\"], inplace=True)\n",
        "\n",
        "blast_results.set_index(\"subject acc.ver\", inplace=True)\n",
        "\n",
        "print(blast_results.head())\n",
        "\n"
      ]
    },
    {
      "cell_type": "markdown",
      "metadata": {
        "id": "aHNeMncr3r6j"
      },
      "source": [
        "### Question 2\n",
        "What is the average number of publications?"
      ]
    },
    {
      "cell_type": "code",
      "execution_count": 19,
      "metadata": {
        "id": "Q1JK-hYw3r6j",
        "colab": {
          "base_uri": "https://localhost:8080/"
        },
        "outputId": "d8428559-a7cf-4afd-ec98-2aeb07cd8fca"
      },
      "outputs": [
        {
          "output_type": "stream",
          "name": "stdout",
          "text": [
            "The average number of publications is: nan\n"
          ]
        }
      ],
      "source": [
        "blast_results[\"publications\"] = pd.to_numeric(blast_results[\"publications\"], errors=\"coerce\")\n",
        "\n",
        "average_publications = blast_results[\"publications\"].mean()\n",
        "\n",
        "print(f\"The average number of publications is: {average_publications:.2f}\")\n",
        "\n"
      ]
    },
    {
      "cell_type": "markdown",
      "metadata": {
        "id": "r4gRR96y3r6k"
      },
      "source": [
        "### Question 3\n",
        "List the `subject acc.ver` that has over 15,000 bonds."
      ]
    },
    {
      "cell_type": "code",
      "execution_count": 20,
      "metadata": {
        "id": "pLKiddab3r6k",
        "colab": {
          "base_uri": "https://localhost:8080/"
        },
        "outputId": "7a94db92-5c77-4023-a4bb-f5a0504b8876"
      },
      "outputs": [
        {
          "output_type": "stream",
          "name": "stdout",
          "text": [
            "Subjects with over 15,000 bonds:\n",
            "[]\n"
          ]
        }
      ],
      "source": [
        "over_15000 = blast_results[blast_results[\"alignment_length\"] > 15000]\n",
        "\n",
        "print(\"Subjects with over 15,000 bonds:\")\n",
        "print(over_15000.index.tolist())\n",
        "\n"
      ]
    },
    {
      "cell_type": "markdown",
      "metadata": {
        "id": "H56QTFYU3r6l"
      },
      "source": [
        "### Question 4\n",
        "Create a plot that shows the correlation between `% identity` and `% positives`."
      ]
    },
    {
      "cell_type": "code",
      "execution_count": 21,
      "metadata": {
        "id": "YD3IBzmG3r6l",
        "colab": {
          "base_uri": "https://localhost:8080/",
          "height": 607
        },
        "outputId": "47657e3c-36b0-46b2-c9f6-02d9152aa879"
      },
      "outputs": [
        {
          "output_type": "display_data",
          "data": {
            "text/plain": [
              "<Figure size 800x600 with 1 Axes>"
            ],
            "image/png": "[encoded data removed]"
          },
          "metadata": {}
        }
      ],
      "source": [
        "import matplotlib.pyplot as plt\n",
        "\n",
        "blast_results[\"perc_identity\"] = pd.to_numeric(blast_results[\"perc_identity\"], errors=\"coerce\")\n",
        "blast_results[\"alignment_length\"] = pd.to_numeric(blast_results[\"alignment_length\"], errors=\"coerce\")\n",
        "\n",
        "plt.figure(figsize=(8, 6))\n",
        "plt.scatter(blast_results[\"perc_identity\"], blast_results[\"alignment_length\"], alpha=0.6)\n",
        "\n",
        "plt.title(\"Correlation Between % Identity and Alignment Length\", fontsize=14)\n",
        "plt.xlabel(\"% Identity\", fontsize=12)\n",
        "plt.ylabel(\"Alignment Length\", fontsize=12)\n",
        "\n",
        "# Show the plot\n",
        "plt.grid(alpha=0.3)\n",
        "plt.tight_layout()\n",
        "plt.show()\n"
      ]
    },
    {
      "cell_type": "markdown",
      "metadata": {
        "id": "pEUJxhad3r6m"
      },
      "source": [
        "### Question  5\n",
        "Add a column `Protein source` to the dataframe from Question 1 based on the data in this csv file: https://raw.githubusercontent.com/csbfx/advpy122-data/master/protein_source.csv. Merge the data when the `subject acc.ver` from the dataframe equals to `Protein` in the csv file. Entries without a matching protein will have `NA` as `Protein source`."
      ]
    },
    {
      "cell_type": "code",
      "execution_count": 22,
      "metadata": {
        "id": "xzIwyECv3r6m",
        "colab": {
          "base_uri": "https://localhost:8080/"
        },
        "outputId": "dc0df701-836d-45a7-a954-cccf193c5a18"
      },
      "outputs": [
        {
          "output_type": "stream",
          "name": "stdout",
          "text": [
            "     perc_identity  alignment_length  mismatches  gap_opens  q.start  q.end  \\\n",
            "NaN            NaN               NaN         NaN        NaN      NaN    NaN   \n",
            "0.0        100.000             318.0         0.0        0.0      1.0  318.0   \n",
            "NaN         99.686             318.0         1.0        0.0      1.0  318.0   \n",
            "1.0         99.686             318.0         1.0        0.0      1.0  318.0   \n",
            "NaN         99.686             318.0         1.0        0.0      1.0  318.0   \n",
            "\n",
            "     s.start  s.end  evalue  bit_score   score  coverage taxonomy  \\\n",
            "NaN      NaN    NaN     NaN        NaN     NaN       NaN      NaN   \n",
            "0.0      1.0  318.0     0.0      629.0  100.00    1,487         9   \n",
            "NaN      1.0  318.0     0.0      629.0  100.00   17,947        47   \n",
            "1.0      1.0  318.0     0.0      627.0  100.00   12,106        13   \n",
            "NaN      1.0  318.0     0.0      627.0   99.69    2,319        41   \n",
            "\n",
            "     publications  Unnamed: 0      Protein   Source  \n",
            "NaN           NaN         NaN          NaN      NaN  \n",
            "0.0           NaN         0.0  NP_904328.1   RefSeq  \n",
            "NaN           NaN         NaN   AGK29621.1      NaN  \n",
            "1.0           NaN         2.0  YP_220563.1  GenPept  \n",
            "NaN           NaN         NaN   ACM24502.1      NaN  \n"
          ]
        }
      ],
      "source": [
        "protein_source_url = \"https://raw.githubusercontent.com/csbfx/advpy122-data/master/protein_source.csv\"\n",
        "protein_source = pd.read_csv(protein_source_url)\n",
        "\n",
        "blast_results = blast_results.merge(\n",
        "    protein_source,\n",
        "    how=\"left\",\n",
        "    left_index=True,\n",
        "    right_on=\"Protein\"\n",
        ")\n",
        "\n",
        "print(blast_results.head())\n"
      ]
    }
  ],
  "metadata": {
    "kernelspec": {
      "display_name": "Python 3",
      "language": "python",
      "name": "python3"
    },
    "language_info": {
      "codemirror_mode": {
        "name": "ipython",
        "version": 3
      },
      "file_extension": ".py",
      "mimetype": "text/x-python",
      "name": "python",
      "nbconvert_exporter": "python",
      "pygments_lexer": "ipython3",
      "version": "3.7.6"
    },
    "colab": {
      "provenance": []
    }
  },
  "nbformat": 4,
  "nbformat_minor": 0
}