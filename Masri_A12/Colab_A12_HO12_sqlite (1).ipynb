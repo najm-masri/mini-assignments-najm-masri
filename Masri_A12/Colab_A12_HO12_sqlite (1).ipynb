{
  "cells": [
    {
      "cell_type": "markdown",
      "metadata": {
        "id": "ZgULxg_0AuZL"
      },
      "source": [
        "###**Q1**.  Use [Lucidchart](https://sjsu.edu/it/services/applications/lucidchart.php) to create an Entity Relationship Diagram (ERD) for the following tables representing a customer order tracking system:\n",
        "\n",
        "Tables and fields:\n",
        "1. product:\n",
        "    - product_id: INTEGER (Primary key)\n",
        "    - name: TEXT not null\n",
        "    - price: REAL\n",
        "\n",
        "\n",
        "2. customer:\n",
        "    - customer_id: INTEGER (Primary key)\n",
        "    - name: TEXT not null\n",
        "    - email: TEXT not null\n",
        "\n",
        "\n",
        "3. purchase_order:\n",
        "    - order_id: INTEGER (Primary key)\n",
        "    - customer_id: INTEGER (Foreign key)\n",
        "    - date: TEXT not null (\"YYYY-MM-DD\")\n",
        "\n",
        "\n",
        "4. order_item:\n",
        "    - order_id: INTEGER (Foreign key)\n",
        "    - product_id: INTEGER (Foreign key)\n",
        "    - quantity: INTEGER\n",
        "    \n",
        "\n",
        "\n",
        "Export the ERD as PDF and submit it in Canvas."
      ]
    },
    {
      "cell_type": "markdown",
      "metadata": {
        "id": "PZJtgMx7AuZO"
      },
      "source": [
        "###**Q2**. Create SQLite tables and load data\n",
        "1. Here are the csv files for the data for the four tables:\n",
        "   - product: https://raw.githubusercontent.com/csbfx/cs133/main/product.csv\n",
        "   - customer: https://raw.githubusercontent.com/csbfx/cs133/main/customer.csv\n",
        "   - order_item: https://raw.githubusercontent.com/csbfx/cs133/main/order_item.csv\n",
        "   - purchase_order: https://raw.githubusercontent.com/csbfx/cs133/main/purchase_order.csv\n",
        "2. In this notebook, create the database and save it in a file called `store.db`, and create the four tables as described above.\n",
        "3. Load the data in the csv files into the corresponding table.\n",
        "4. Commit so that the data loaded to the tables to officially written to the tables.\n",
        "5. Execute a query SELECT * from each table to make sure the data are properly loaded.\n",
        "6. Execute a query using SELECT statement that queries with JOIN tables to find the purchase date, the products and quantities that a particular customer has purchased."
      ]
    },
    {
      "cell_type": "code",
      "execution_count": 11,
      "metadata": {
        "id": "w4xnppG8AuZP",
        "colab": {
          "base_uri": "https://localhost:8080/"
        },
        "outputId": "721be43a-d009-49f0-b671-035d89ccfce0"
      },
      "outputs": [
        {
          "output_type": "execute_result",
          "data": {
            "text/plain": [
              "<sqlite3.Cursor at 0x7d5348623f40>"
            ]
          },
          "metadata": {},
          "execution_count": 11
        }
      ],
      "source": [
        "# 2.2 Create the database and save it in a file called store.db, and create the four tables as described above.\n",
        "# Your code here . . .\n",
        "import sqlite3\n",
        "from pathlib import Path\n",
        "import pandas as pd\n",
        "\n",
        "conn = sqlite3.connect(\"store.db\")\n",
        "c = conn.cursor()\n",
        "\n",
        "\n",
        "SQL_CreateTable = '''CREATE TABLE IF NOT EXISTS student (\n",
        "             product_id INTEGER PRIMARY KEY,\n",
        "             name TEXT NOT NULL,\n",
        "             price REAL\n",
        "             )'''\n",
        "c.execute(SQL_CreateTable)\n",
        "\n",
        "\n",
        "SQL_CreateTable = '''\n",
        "CREATE TABLE IF NOT EXISTS customer (\n",
        "    customer_id INTEGER PRIMARY KEY,\n",
        "    name TEXT NOT NULL,\n",
        "    email TEXT NOT NULL\n",
        ")'''\n",
        "c.execute(SQL_CreateTable)\n",
        "\n",
        "\n",
        "SQL_CreateTable = '''\n",
        "CREATE TABLE IF NOT EXISTS purchase_order (\n",
        "    order_id INTEGER PRIMARY KEY,\n",
        "    customer_id INTEGER,\n",
        "    date TEXT NOT NULL,\n",
        "    FOREIGN KEY (customer_id) REFERENCES customer(customer_id)\n",
        ")'''\n",
        "c.execute(SQL_CreateTable)\n",
        "\n",
        "\n",
        "SQL_CreateTable ='''\n",
        "CREATE TABLE IF NOT EXISTS order_item (\n",
        "    order_id INTEGER,\n",
        "    product_id INTEGER,\n",
        "    quantity INTEGER,\n",
        "    FOREIGN KEY (order_id) REFERENCES purchase_order(order_id),\n",
        "    FOREIGN KEY (product_id) REFERENCES product(product_id)\n",
        ")'''\n",
        "c.execute(SQL_CreateTable)\n",
        "\n",
        "\n"
      ]
    },
    {
      "cell_type": "code",
      "source": [
        "# 2.3 Load the data in the csv files into the corresponding table.\n",
        "# Your code here . . .\n",
        "product = pd.read_csv('https://raw.githubusercontent.com/csbfx/cs133/main/product.csv')\n",
        "customer = pd.read_csv(' https://raw.githubusercontent.com/csbfx/cs133/main/customer.csv')\n",
        "purchase_order = pd.read_csv('https://raw.githubusercontent.com/csbfx/cs133/main/purchase_order.csv')\n",
        "order_item = pd.read_csv('https://raw.githubusercontent.com/csbfx/cs133/main/order_item.csv')\n",
        "\n",
        "\n",
        "product.to_sql('product', conn, if_exists='append', index=False)\n",
        "customer.to_sql('customer', conn, if_exists='replace', index=False)\n",
        "purchase_order.to_sql('purchase_order', conn, if_exists='replace', index=False)\n",
        "order_item.to_sql('order_item', conn, if_exists='append', index=False)"
      ],
      "metadata": {
        "id": "WPRhy-dSBY-c",
        "colab": {
          "base_uri": "https://localhost:8080/"
        },
        "outputId": "ab93a3b9-14d4-4821-fbd9-97947aef2911"
      },
      "execution_count": 17,
      "outputs": [
        {
          "output_type": "execute_result",
          "data": {
            "text/plain": [
              "4"
            ]
          },
          "metadata": {},
          "execution_count": 17
        }
      ]
    },
    {
      "cell_type": "code",
      "source": [
        "# 2.4 Commit so that the data loaded to the tables to officially written to the tables.\n",
        "# Your code here . . .\n",
        "conn.commit()\n"
      ],
      "metadata": {
        "id": "VIBaGXPABbVO"
      },
      "execution_count": 18,
      "outputs": []
    },
    {
      "cell_type": "code",
      "source": [
        "# 2.5 Execute a query SELECT * from each table to make sure the data are properly loaded.\n",
        "# Your code here . . .\n",
        "c.execute(\"SELECT * FROM product\")\n",
        "product_results = c.fetchall()\n",
        "print(product_results)\n",
        "\n",
        "c.execute(\"SELECT * FROM customer\")\n",
        "customer_results = c.fetchall()\n",
        "print(customer_results)\n",
        "\n",
        "c.execute(\"SELECT * FROM purchase_order\")\n",
        "purchase_order_results = c.fetchall()\n",
        "print(purchase_order_results)\n",
        "\n",
        "c.execute(\"SELECT * FROM order_item\")\n",
        "order_item_results = c.fetchall()\n",
        "print(order_item_results)"
      ],
      "metadata": {
        "id": "wPHFswfYBgan",
        "colab": {
          "base_uri": "https://localhost:8080/"
        },
        "outputId": "0be22bc9-2373-4f19-c12f-834288f20da0"
      },
      "execution_count": 20,
      "outputs": [
        {
          "output_type": "stream",
          "name": "stdout",
          "text": [
            "[(0, 'bicycle', 400), (1, 'helmet', 45), (2, 'gloves', 23), (3, 'chain', 48), (0, 'bicycle', 400), (1, 'helmet', 45), (2, 'gloves', 23), (3, 'chain', 48), (0, 'bicycle', 400), (1, 'helmet', 45), (2, 'gloves', 23), (3, 'chain', 48), (0, 'bicycle', 400), (1, 'helmet', 45), (2, 'gloves', 23), (3, 'chain', 48), (0, 'bicycle', 400), (1, 'helmet', 45), (2, 'gloves', 23), (3, 'chain', 48), (0, 'bicycle', 400), (1, 'helmet', 45), (2, 'gloves', 23), (3, 'chain', 48)]\n",
            "[(0, 'Wendy Lee', 'wlee@bike.com'), (1, 'Jason Brown', 'jb@speed.com'), (2, 'Harry Potter', 'hp@hogwarts.edu'), (3, 'Godric Gryffindor', 'gg@hogwards.edu')]\n",
            "[(0, 0, '2020-10-19'), (1, 0, '2020-10-20'), (2, 1, '2020-10-20')]\n",
            "[(0, 0, 1), (0, 1, 1), (1, 2, 2), (1, 3, 1), (0, 0, 1), (0, 1, 1), (1, 2, 2), (1, 3, 1)]\n"
          ]
        }
      ]
    },
    {
      "cell_type": "code",
      "source": [
        "# 2.6 Execute a query using SELECT statement that queries with JOIN tables to find the purchase date,\n",
        "#    the products and quantities that a particular customer has purchased.\n",
        "# Query 1:\n",
        "\n",
        "SQL_JointQuery1 = \"\"\"\n",
        "SELECT\n",
        "    purchase_order.date AS purchase_date,\n",
        "    product.name AS product_name,\n",
        "    order_item.quantity AS quantity\n",
        "FROM\n",
        "    customer\n",
        "JOIN\n",
        "    purchase_order USING (customer_id)\n",
        "JOIN\n",
        "    order_item USING (order_id)\n",
        "JOIN\n",
        "    product USING (product_id)\n",
        "WHERE\n",
        "    customer.name = 'John Doe'\n",
        "\"\"\"\n",
        "c.execute(SQL_JointQuery1)\n",
        "joint_results1 = c.fetchall()\n",
        "print(\"\\nPurchases by John Doe:\")\n",
        "print(joint_results1)\n",
        "\n",
        "\n",
        "\n",
        "# Query 2: Find all purchases across all customers\n",
        "SQL_JointQuery2 = \"\"\"\n",
        "SELECT\n",
        "    customer.name AS customer_name,\n",
        "    purchase_order.date AS purchase_date,\n",
        "    product.name AS product_name,\n",
        "    order_item.quantity AS quantity\n",
        "FROM\n",
        "    customer\n",
        "JOIN\n",
        "    purchase_order USING (customer_id)\n",
        "JOIN\n",
        "    order_item USING (order_id)\n",
        "JOIN\n",
        "    product USING (product_id)\n",
        "\"\"\"\n",
        "c.execute(SQL_JointQuery2)\n",
        "joint_results2 = c.fetchall()\n",
        "print(\"\\nAll purchases across all customers:\")\n",
        "print(joint_results2)\n",
        "# Your code here . . ."
      ],
      "metadata": {
        "id": "armxZeMPBmSe",
        "colab": {
          "base_uri": "https://localhost:8080/"
        },
        "outputId": "7ff03c13-f645-4a91-f5bb-3ef35b79e753"
      },
      "execution_count": 21,
      "outputs": [
        {
          "output_type": "stream",
          "name": "stdout",
          "text": [
            "\n",
            "Purchases by John Doe:\n",
            "[]\n",
            "\n",
            "All purchases across all customers:\n",
            "[('Wendy Lee', '2020-10-19', 'bicycle', 1), ('Wendy Lee', '2020-10-19', 'bicycle', 1), ('Wendy Lee', '2020-10-19', 'bicycle', 1), ('Wendy Lee', '2020-10-19', 'bicycle', 1), ('Wendy Lee', '2020-10-19', 'bicycle', 1), ('Wendy Lee', '2020-10-19', 'bicycle', 1), ('Wendy Lee', '2020-10-19', 'bicycle', 1), ('Wendy Lee', '2020-10-19', 'bicycle', 1), ('Wendy Lee', '2020-10-19', 'bicycle', 1), ('Wendy Lee', '2020-10-19', 'bicycle', 1), ('Wendy Lee', '2020-10-19', 'bicycle', 1), ('Wendy Lee', '2020-10-19', 'bicycle', 1), ('Wendy Lee', '2020-10-19', 'helmet', 1), ('Wendy Lee', '2020-10-19', 'helmet', 1), ('Wendy Lee', '2020-10-19', 'helmet', 1), ('Wendy Lee', '2020-10-19', 'helmet', 1), ('Wendy Lee', '2020-10-19', 'helmet', 1), ('Wendy Lee', '2020-10-19', 'helmet', 1), ('Wendy Lee', '2020-10-19', 'helmet', 1), ('Wendy Lee', '2020-10-19', 'helmet', 1), ('Wendy Lee', '2020-10-19', 'helmet', 1), ('Wendy Lee', '2020-10-19', 'helmet', 1), ('Wendy Lee', '2020-10-19', 'helmet', 1), ('Wendy Lee', '2020-10-19', 'helmet', 1), ('Wendy Lee', '2020-10-20', 'gloves', 2), ('Wendy Lee', '2020-10-20', 'gloves', 2), ('Wendy Lee', '2020-10-20', 'gloves', 2), ('Wendy Lee', '2020-10-20', 'gloves', 2), ('Wendy Lee', '2020-10-20', 'gloves', 2), ('Wendy Lee', '2020-10-20', 'gloves', 2), ('Wendy Lee', '2020-10-20', 'gloves', 2), ('Wendy Lee', '2020-10-20', 'gloves', 2), ('Wendy Lee', '2020-10-20', 'gloves', 2), ('Wendy Lee', '2020-10-20', 'gloves', 2), ('Wendy Lee', '2020-10-20', 'gloves', 2), ('Wendy Lee', '2020-10-20', 'gloves', 2), ('Wendy Lee', '2020-10-20', 'chain', 1), ('Wendy Lee', '2020-10-20', 'chain', 1), ('Wendy Lee', '2020-10-20', 'chain', 1), ('Wendy Lee', '2020-10-20', 'chain', 1), ('Wendy Lee', '2020-10-20', 'chain', 1), ('Wendy Lee', '2020-10-20', 'chain', 1), ('Wendy Lee', '2020-10-20', 'chain', 1), ('Wendy Lee', '2020-10-20', 'chain', 1), ('Wendy Lee', '2020-10-20', 'chain', 1), ('Wendy Lee', '2020-10-20', 'chain', 1), ('Wendy Lee', '2020-10-20', 'chain', 1), ('Wendy Lee', '2020-10-20', 'chain', 1)]\n"
          ]
        }
      ]
    },
    {
      "cell_type": "code",
      "source": [
        "# Additional tasks\n",
        "# Appending a new row to one of the tables\n",
        "# Deleting row(s) with \"XXX\""
      ],
      "metadata": {
        "id": "h17Hwcs5jvoA"
      },
      "execution_count": null,
      "outputs": []
    }
  ],
  "metadata": {
    "kernelspec": {
      "display_name": "Python 3",
      "language": "python",
      "name": "python3"
    },
    "language_info": {
      "codemirror_mode": {
        "name": "ipython",
        "version": 3
      },
      "file_extension": ".py",
      "mimetype": "text/x-python",
      "name": "python",
      "nbconvert_exporter": "python",
      "pygments_lexer": "ipython3",
      "version": "3.7.6"
    },
    "colab": {
      "provenance": []
    }
  },
  "nbformat": 4,
  "nbformat_minor": 0
}